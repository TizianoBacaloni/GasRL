{
 "cells": [
  {
   "cell_type": "code",
   "execution_count": 1,
   "id": "de8a99cd",
   "metadata": {},
   "outputs": [],
   "source": [
    "from Train import test_checkpoints\n",
    "from Utils.Plots import plot_checkpoint_time_series\n",
    "from stable_baselines3 import SAC\n",
    "import os\n",
    "import numpy as np"
   ]
  },
  {
   "cell_type": "markdown",
   "id": "caf8921b",
   "metadata": {},
   "source": [
    "# **AGGREGATE AND CHECKPOINT DATA FOR FASTER TESTING**"
   ]
  },
  {
   "cell_type": "markdown",
   "id": "6dd96b7a",
   "metadata": {},
   "source": [
    "#### RUN THIS NOTEBOOK TO OBTAIN DATA FOR \"price_volatility.jpynb\" AND \"model_seasonality\":\n",
    "\n",
    "##### 1)Change the path, pasting the one for the folder of the model to test\n",
    "##### 2)Run this notebooks"
   ]
  },
  {
   "cell_type": "code",
   "execution_count": 2,
   "id": "04b94289",
   "metadata": {},
   "outputs": [],
   "source": [
    "model_folder = \"/home/tizianobacaloni/GasRL/Models/sac_model_1500000_pen1000.0_pen_thresh0.0_rep4.zip\"\n",
    "\n",
    "\n",
    "\n",
    "# Automatizing the change in model type depending on the folder name\n",
    "last_segment = model_folder.split('/')[-1]  \n",
    "start = len(\"model\")\n",
    "end = last_segment.find(\"_\", start)\n",
    "model_type = str(last_segment[start:end])"
   ]
  },
  {
   "cell_type": "markdown",
   "id": "e7f0196e",
   "metadata": {},
   "source": [
    "### FOR MORE TEST REPETITIONS CHANGE **n_episodes**"
   ]
  },
  {
   "cell_type": "code",
   "execution_count": 3,
   "id": "78db1d45",
   "metadata": {},
   "outputs": [],
   "source": [
    "# 2) Metrics\n",
    "ep_metric_keys = [\n",
    "    \"reward\", \"bank account\", \"inventory\", \"market\", \"demand\", \"supply\", \n",
    "    \"excess demand\", \"demand shifter\", \"supply shifter\", \"delta price\", \"price\",\"reward for the mean\", \"november inventory\",\"demand unsat\",\"wasted supply\"\n",
    "]\n",
    "\n",
    "# 4) Parameters\n",
    "n_episodes     = 2\n",
    "max_test_steps = 3"
   ]
  },
  {
   "cell_type": "code",
   "execution_count": 4,
   "id": "dacf8e84",
   "metadata": {},
   "outputs": [
    {
     "ename": "ValueError",
     "evalue": "the model type you're trying to use is not allowed",
     "output_type": "error",
     "traceback": [
      "\u001b[31m---------------------------------------------------------------------------\u001b[39m",
      "\u001b[31mValueError\u001b[39m                                Traceback (most recent call last)",
      "\u001b[36mCell\u001b[39m\u001b[36m \u001b[39m\u001b[32mIn[4]\u001b[39m\u001b[32m, line 1\u001b[39m\n\u001b[32m----> \u001b[39m\u001b[32m1\u001b[39m aggregate_stats,time_series = \u001b[43mtest_checkpoints\u001b[49m\u001b[43m(\u001b[49m\u001b[43mmodel_folder\u001b[49m\u001b[43m,\u001b[49m\u001b[43m \u001b[49m\u001b[43mn_episodes\u001b[49m\u001b[43m,\u001b[49m\u001b[43m \u001b[49m\u001b[43mmax_test_steps\u001b[49m\u001b[43m,\u001b[49m\u001b[43m \u001b[49m\u001b[43mmodel_type\u001b[49m\u001b[43m)\u001b[49m\n",
      "\u001b[36mFile \u001b[39m\u001b[32m~/GasRL/Train.py:161\u001b[39m, in \u001b[36mtest_checkpoints\u001b[39m\u001b[34m(model_folder, n_reps, max_test_steps, model_type)\u001b[39m\n\u001b[32m    159\u001b[39m     checkpoint_files.sort(key=\u001b[38;5;28;01mlambda\u001b[39;00m x: \u001b[38;5;28mint\u001b[39m(x.split(\u001b[33m'\u001b[39m\u001b[33m_\u001b[39m\u001b[33m'\u001b[39m)[\u001b[32m2\u001b[39m].split(\u001b[33m'\u001b[39m\u001b[33m.\u001b[39m\u001b[33m'\u001b[39m)[\u001b[32m0\u001b[39m])) \n\u001b[32m    160\u001b[39m \u001b[38;5;28;01melse\u001b[39;00m:\n\u001b[32m--> \u001b[39m\u001b[32m161\u001b[39m      \u001b[38;5;28;01mraise\u001b[39;00m \u001b[38;5;167;01mValueError\u001b[39;00m(\u001b[33m\"\u001b[39m\u001b[33mthe model type you\u001b[39m\u001b[33m'\u001b[39m\u001b[33mre trying to use is not allowed\u001b[39m\u001b[33m\"\u001b[39m)\n\u001b[32m    165\u001b[39m aggregate_results = {}  \u001b[38;5;66;03m# Final results for each checkpoint\u001b[39;00m\n\u001b[32m    166\u001b[39m time_series={}\n",
      "\u001b[31mValueError\u001b[39m: the model type you're trying to use is not allowed"
     ]
    }
   ],
   "source": [
    "aggregate_stats,time_series = test_checkpoints(model_folder, n_episodes, max_test_steps, model_type)"
   ]
  },
  {
   "cell_type": "markdown",
   "id": "9de9a40a",
   "metadata": {},
   "source": [
    "#### DATA SAVING"
   ]
  },
  {
   "cell_type": "code",
   "execution_count": null,
   "id": "ffc06722",
   "metadata": {},
   "outputs": [],
   "source": [
    "# 1) General saving folder for aggregate stats\n",
    "save_root2 = \"Aggregate test\"\n",
    "os.makedirs(save_root2, exist_ok=True)\n",
    "\n",
    "# 2) Specific saving folder for aggregate stats\n",
    "np.save(os.path.join(save_root2, \"aggregate_stats_27_4_20.npy\"), aggregate_stats)\n",
    "\n",
    "# 3) General saving folder for time series\n",
    "save_root3 = \"Time series\"\n",
    "os.makedirs(save_root3, exist_ok=True)\n",
    "\n",
    "# 4) Specific saving folder for time series\n",
    "np.save(os.path.join(save_root3, \"time_series_stats_27_4_20.npy\"), time_series)"
   ]
  }
 ],
 "metadata": {
  "kernelspec": {
   "display_name": "base",
   "language": "python",
   "name": "python3"
  },
  "language_info": {
   "codemirror_mode": {
    "name": "ipython",
    "version": 3
   },
   "file_extension": ".py",
   "mimetype": "text/x-python",
   "name": "python",
   "nbconvert_exporter": "python",
   "pygments_lexer": "ipython3",
   "version": "3.12.9"
  }
 },
 "nbformat": 4,
 "nbformat_minor": 5
}
