{
 "cells": [
  {
   "cell_type": "code",
   "execution_count": 11,
   "id": "de8a99cd",
   "metadata": {},
   "outputs": [],
   "source": [
    "from Train import test_checkpoints\n",
    "from Utils.Plots import plot_checkpoint_time_series\n",
    "from stable_baselines3 import SAC\n",
    "import os\n",
    "import numpy as np"
   ]
  },
  {
   "cell_type": "markdown",
   "id": "caf8921b",
   "metadata": {},
   "source": [
    "# **AGGREGATE AND CHECKPOINT DATA FOR FASTER TESTING**"
   ]
  },
  {
   "cell_type": "markdown",
   "id": "6dd96b7a",
   "metadata": {},
   "source": [
    "#### RUN THIS NOTEBOOK TO OBTAIN DATA FOR \"price_volatility.jpynb\" AND \"model_seasonality\":\n",
    "\n",
    "##### 1)Change the path, pasting the one for the folder of the model to test\n",
    "##### 2)Run this notebooks"
   ]
  },
  {
   "cell_type": "code",
   "execution_count": 12,
   "id": "04b94289",
   "metadata": {},
   "outputs": [],
   "source": [
    "model_folder = \"/home/tizianobacaloni/GasRL/Models/sac_model_1500000_pen1000.0_pen_thresh0.0_rep4\"\n",
    "model_type = \"SAC\""
   ]
  },
  {
   "cell_type": "markdown",
   "id": "e7f0196e",
   "metadata": {},
   "source": [
    "### FOR MORE TEST REPETITIONS CHANGE **n_episodes**"
   ]
  },
  {
   "cell_type": "code",
   "execution_count": 13,
   "id": "78db1d45",
   "metadata": {},
   "outputs": [],
   "source": [
    "# 2) Metrics\n",
    "ep_metric_keys = [\n",
    "    \"reward\", \"bank account\", \"inventory\", \"market\", \"demand\", \"supply\", \n",
    "    \"excess demand\", \"demand shifter\", \"supply shifter\", \"delta price\", \"price\",\"reward for the mean\", \"november inventory\",\"demand unsat\",\"wasted supply\"\n",
    "]\n",
    "\n",
    "# 4) Parameters\n",
    "n_episodes     = 50\n",
    "max_test_steps = 360"
   ]
  },
  {
   "cell_type": "code",
   "execution_count": 14,
   "id": "dacf8e84",
   "metadata": {},
   "outputs": [
    {
     "name": "stdout",
     "output_type": "stream",
     "text": [
      " riga 146 Checkpoint path: /home/tizianobacaloni/GasRL/Models/sac_model_1500000_pen1000.0_pen_thresh0.0_rep4/sac_model_1500000_pen1000.0_pen_thresh0.0_rep4.zip\n",
      "\n",
      "--- Testing checkpoint: /home/tizianobacaloni/GasRL/Models/sac_model_1500000_pen1000.0_pen_thresh0.0_rep4/sac_model_1500000_pen1000.0_pen_thresh0.0_rep4.zip ---\n",
      "Test completed with 50 repetitions\n",
      "Grafico time series per reward salvato in /home/tizianobacaloni/GasRL/Models/sac_model_1500000_pen1000.0_pen_thresh0.0_rep4/test_1500000\n",
      "Grafico time series per bank account salvato in /home/tizianobacaloni/GasRL/Models/sac_model_1500000_pen1000.0_pen_thresh0.0_rep4/test_1500000\n",
      "Grafico time series per inventory salvato in /home/tizianobacaloni/GasRL/Models/sac_model_1500000_pen1000.0_pen_thresh0.0_rep4/test_1500000\n",
      "Grafico time series per market salvato in /home/tizianobacaloni/GasRL/Models/sac_model_1500000_pen1000.0_pen_thresh0.0_rep4/test_1500000\n",
      "Grafico time series per demand salvato in /home/tizianobacaloni/GasRL/Models/sac_model_1500000_pen1000.0_pen_thresh0.0_rep4/test_1500000\n",
      "Grafico time series per supply salvato in /home/tizianobacaloni/GasRL/Models/sac_model_1500000_pen1000.0_pen_thresh0.0_rep4/test_1500000\n",
      "Grafico time series per excess demand salvato in /home/tizianobacaloni/GasRL/Models/sac_model_1500000_pen1000.0_pen_thresh0.0_rep4/test_1500000\n",
      "Grafico time series per demand shifter salvato in /home/tizianobacaloni/GasRL/Models/sac_model_1500000_pen1000.0_pen_thresh0.0_rep4/test_1500000\n",
      "Grafico time series per supply shifter salvato in /home/tizianobacaloni/GasRL/Models/sac_model_1500000_pen1000.0_pen_thresh0.0_rep4/test_1500000\n",
      "Grafico time series per delta price salvato in /home/tizianobacaloni/GasRL/Models/sac_model_1500000_pen1000.0_pen_thresh0.0_rep4/test_1500000\n",
      "Grafico time series per price salvato in /home/tizianobacaloni/GasRL/Models/sac_model_1500000_pen1000.0_pen_thresh0.0_rep4/test_1500000\n",
      "Grafico time series per reward for the mean salvato in /home/tizianobacaloni/GasRL/Models/sac_model_1500000_pen1000.0_pen_thresh0.0_rep4/test_1500000\n",
      "Grafico time series per november inventory salvato in /home/tizianobacaloni/GasRL/Models/sac_model_1500000_pen1000.0_pen_thresh0.0_rep4/test_1500000\n",
      "Grafico time series per demand unsat salvato in /home/tizianobacaloni/GasRL/Models/sac_model_1500000_pen1000.0_pen_thresh0.0_rep4/test_1500000\n",
      "Grafico time series per wasted supply salvato in /home/tizianobacaloni/GasRL/Models/sac_model_1500000_pen1000.0_pen_thresh0.0_rep4/test_1500000\n",
      "Mean of reward saved in /home/tizianobacaloni/GasRL/Models/sac_model_1500000_pen1000.0_pen_thresh0.0_rep4/aggregate_reward_mean.png\n",
      "Standard deviation of reward saved in /home/tizianobacaloni/GasRL/Models/sac_model_1500000_pen1000.0_pen_thresh0.0_rep4/aggregate_reward_std.png\n",
      "Mean of bank account saved in /home/tizianobacaloni/GasRL/Models/sac_model_1500000_pen1000.0_pen_thresh0.0_rep4/aggregate_bank account_mean.png\n",
      "Standard deviation of bank account saved in /home/tizianobacaloni/GasRL/Models/sac_model_1500000_pen1000.0_pen_thresh0.0_rep4/aggregate_bank account_std.png\n",
      "Mean of inventory saved in /home/tizianobacaloni/GasRL/Models/sac_model_1500000_pen1000.0_pen_thresh0.0_rep4/aggregate_inventory_mean.png\n",
      "Standard deviation of inventory saved in /home/tizianobacaloni/GasRL/Models/sac_model_1500000_pen1000.0_pen_thresh0.0_rep4/aggregate_inventory_std.png\n",
      "Mean of market saved in /home/tizianobacaloni/GasRL/Models/sac_model_1500000_pen1000.0_pen_thresh0.0_rep4/aggregate_market_mean.png\n",
      "Standard deviation of market saved in /home/tizianobacaloni/GasRL/Models/sac_model_1500000_pen1000.0_pen_thresh0.0_rep4/aggregate_market_std.png\n",
      "Mean of demand saved in /home/tizianobacaloni/GasRL/Models/sac_model_1500000_pen1000.0_pen_thresh0.0_rep4/aggregate_demand_mean.png\n",
      "Standard deviation of demand saved in /home/tizianobacaloni/GasRL/Models/sac_model_1500000_pen1000.0_pen_thresh0.0_rep4/aggregate_demand_std.png\n",
      "Mean of supply saved in /home/tizianobacaloni/GasRL/Models/sac_model_1500000_pen1000.0_pen_thresh0.0_rep4/aggregate_supply_mean.png\n",
      "Standard deviation of supply saved in /home/tizianobacaloni/GasRL/Models/sac_model_1500000_pen1000.0_pen_thresh0.0_rep4/aggregate_supply_std.png\n",
      "Mean of excess demand saved in /home/tizianobacaloni/GasRL/Models/sac_model_1500000_pen1000.0_pen_thresh0.0_rep4/aggregate_excess demand_mean.png\n",
      "Standard deviation of excess demand saved in /home/tizianobacaloni/GasRL/Models/sac_model_1500000_pen1000.0_pen_thresh0.0_rep4/aggregate_excess demand_std.png\n",
      "Mean of demand shifter saved in /home/tizianobacaloni/GasRL/Models/sac_model_1500000_pen1000.0_pen_thresh0.0_rep4/aggregate_demand shifter_mean.png\n",
      "Standard deviation of demand shifter saved in /home/tizianobacaloni/GasRL/Models/sac_model_1500000_pen1000.0_pen_thresh0.0_rep4/aggregate_demand shifter_std.png\n",
      "Mean of supply shifter saved in /home/tizianobacaloni/GasRL/Models/sac_model_1500000_pen1000.0_pen_thresh0.0_rep4/aggregate_supply shifter_mean.png\n",
      "Standard deviation of supply shifter saved in /home/tizianobacaloni/GasRL/Models/sac_model_1500000_pen1000.0_pen_thresh0.0_rep4/aggregate_supply shifter_std.png\n",
      "Mean of delta price saved in /home/tizianobacaloni/GasRL/Models/sac_model_1500000_pen1000.0_pen_thresh0.0_rep4/aggregate_delta price_mean.png\n",
      "Standard deviation of delta price saved in /home/tizianobacaloni/GasRL/Models/sac_model_1500000_pen1000.0_pen_thresh0.0_rep4/aggregate_delta price_std.png\n",
      "Mean of price saved in /home/tizianobacaloni/GasRL/Models/sac_model_1500000_pen1000.0_pen_thresh0.0_rep4/aggregate_price_mean.png\n",
      "Standard deviation of price saved in /home/tizianobacaloni/GasRL/Models/sac_model_1500000_pen1000.0_pen_thresh0.0_rep4/aggregate_price_std.png\n",
      "Mean of reward for the mean saved in /home/tizianobacaloni/GasRL/Models/sac_model_1500000_pen1000.0_pen_thresh0.0_rep4/aggregate_reward for the mean_mean.png\n",
      "Standard deviation of reward for the mean saved in /home/tizianobacaloni/GasRL/Models/sac_model_1500000_pen1000.0_pen_thresh0.0_rep4/aggregate_reward for the mean_std.png\n",
      "Mean of november inventory saved in /home/tizianobacaloni/GasRL/Models/sac_model_1500000_pen1000.0_pen_thresh0.0_rep4/aggregate_november inventory_mean.png\n",
      "Standard deviation of november inventory saved in /home/tizianobacaloni/GasRL/Models/sac_model_1500000_pen1000.0_pen_thresh0.0_rep4/aggregate_november inventory_std.png\n",
      "Mean of demand unsat saved in /home/tizianobacaloni/GasRL/Models/sac_model_1500000_pen1000.0_pen_thresh0.0_rep4/aggregate_demand unsat_mean.png\n",
      "Standard deviation of demand unsat saved in /home/tizianobacaloni/GasRL/Models/sac_model_1500000_pen1000.0_pen_thresh0.0_rep4/aggregate_demand unsat_std.png\n",
      "Mean of wasted supply saved in /home/tizianobacaloni/GasRL/Models/sac_model_1500000_pen1000.0_pen_thresh0.0_rep4/aggregate_wasted supply_mean.png\n",
      "Standard deviation of wasted supply saved in /home/tizianobacaloni/GasRL/Models/sac_model_1500000_pen1000.0_pen_thresh0.0_rep4/aggregate_wasted supply_std.png\n"
     ]
    }
   ],
   "source": [
    "aggregate_stats,time_series = test_checkpoints(model_folder, n_episodes, max_test_steps, model_type)"
   ]
  },
  {
   "cell_type": "markdown",
   "id": "9de9a40a",
   "metadata": {},
   "source": [
    "#### DATA SAVING"
   ]
  },
  {
   "cell_type": "code",
   "execution_count": 15,
   "id": "ffc06722",
   "metadata": {},
   "outputs": [],
   "source": [
    "# 1) General saving folder for aggregate stats\n",
    "save_root2 = \"Aggregate test\"\n",
    "os.makedirs(save_root2, exist_ok=True)\n",
    "\n",
    "# 2) Specific saving folder for aggregate stats\n",
    "np.save(os.path.join(save_root2, \"aggregate_stats_27_4_20.npy\"), aggregate_stats)\n",
    "\n",
    "# 3) General saving folder for time series\n",
    "save_root3 = \"Time series\"\n",
    "os.makedirs(save_root3, exist_ok=True)\n",
    "\n",
    "# 4) Specific saving folder for time series\n",
    "np.save(os.path.join(save_root3, \"time_series_stats_27_4_20.npy\"), time_series)"
   ]
  }
 ],
 "metadata": {
  "kernelspec": {
   "display_name": "base",
   "language": "python",
   "name": "python3"
  },
  "language_info": {
   "codemirror_mode": {
    "name": "ipython",
    "version": 3
   },
   "file_extension": ".py",
   "mimetype": "text/x-python",
   "name": "python",
   "nbconvert_exporter": "python",
   "pygments_lexer": "ipython3",
   "version": "3.12.9"
  }
 },
 "nbformat": 4,
 "nbformat_minor": 5
}
