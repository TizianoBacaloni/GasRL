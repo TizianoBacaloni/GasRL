{
 "cells": [
  {
   "cell_type": "code",
   "execution_count": 1,
   "id": "de8a99cd",
   "metadata": {},
   "outputs": [],
   "source": [
    "from Train import test_checkpoints\n",
    "from Utils.Plots import plot_checkpoint_time_series\n",
    "from stable_baselines3 import SAC\n",
    "import os\n",
    "import numpy as np"
   ]
  },
  {
   "cell_type": "markdown",
   "id": "caf8921b",
   "metadata": {},
   "source": [
    "# **AGGREGATE AND CHECKPOINT DATA FOR FASTER TESTING**"
   ]
  },
  {
   "cell_type": "markdown",
   "id": "6dd96b7a",
   "metadata": {},
   "source": [
    "#### RUN THIS NOTEBOOK TO OBTAIN DATA FOR \"price_volatility.jpynb\" AND \"model_seasonality\":\n",
    "\n",
    "##### 1)Change the path, pasting the one for the folder of the model to test\n",
    "##### 2)Run this notebooks"
   ]
  },
  {
   "cell_type": "code",
   "execution_count": 2,
   "id": "04b94289",
   "metadata": {},
   "outputs": [],
   "source": [
    "model_folder = \"Models/sac_model_1500000_pen1000.0_pen_thresh0.0_rep4\"\n",
    "model_type = \"SAC\""
   ]
  },
  {
   "cell_type": "markdown",
   "id": "e7f0196e",
   "metadata": {},
   "source": [
    "### FOR MORE TEST REPETITIONS CHANGE **n_episodes**"
   ]
  },
  {
   "cell_type": "code",
   "execution_count": 3,
   "id": "78db1d45",
   "metadata": {},
   "outputs": [],
   "source": [
    "# 2) Metrics\n",
    "ep_metric_keys = [\n",
    "    \"reward\", \"bank account\", \"inventory\", \"market\", \"demand\", \"supply\", \n",
    "    \"excess demand\", \"demand shifter\", \"supply shifter\", \"delta price\", \"price\",\"reward for the mean\", \"november inventory\",\"demand unsat\",\"wasted supply\"\n",
    "]\n",
    "\n",
    "# 4) Parameters\n",
    "n_episodes     = 50\n",
    "max_test_steps = 360"
   ]
  },
  {
   "cell_type": "code",
   "execution_count": 4,
   "id": "dacf8e84",
   "metadata": {},
   "outputs": [
    {
     "name": "stderr",
     "output_type": "stream",
     "text": [
      "/home/tizianobacaloni/tiziano_data/miniconda3/lib/python3.12/site-packages/gymnasium/spaces/box.py:235: UserWarning: \u001b[33mWARN: Box low's precision lowered by casting to float32, current low.dtype=float64\u001b[0m\n",
      "  gym.logger.warn(\n",
      "/home/tizianobacaloni/tiziano_data/miniconda3/lib/python3.12/site-packages/gymnasium/spaces/box.py:305: UserWarning: \u001b[33mWARN: Box high's precision lowered by casting to float32, current high.dtype=float64\u001b[0m\n",
      "  gym.logger.warn(\n",
      "/home/tizianobacaloni/GasRL/Train.py:271: RuntimeWarning: Mean of empty slice\n",
      "  mean = np.squeeze(np.nanmean(data, axis=0))   # Mean of the max_test_step-lenght-array passo‑per‑passo\n",
      "/home/tizianobacaloni/tiziano_data/miniconda3/lib/python3.12/site-packages/numpy/lib/_nanfunctions_impl.py:2053: RuntimeWarning: Degrees of freedom <= 0 for slice.\n",
      "  var = nanvar(a, axis=axis, dtype=dtype, out=out, ddof=ddof,\n"
     ]
    }
   ],
   "source": [
    "aggregate_stats,time_series = test_checkpoints(model_folder, n_episodes, max_test_steps, model_type)"
   ]
  },
  {
   "cell_type": "markdown",
   "id": "9de9a40a",
   "metadata": {},
   "source": [
    "#### DATA SAVING"
   ]
  },
  {
   "cell_type": "code",
   "execution_count": 5,
   "id": "ffc06722",
   "metadata": {},
   "outputs": [],
   "source": [
    "# 1) General saving folder for aggregate stats\n",
    "save_root2 = \"Aggregate test\"\n",
    "os.makedirs(save_root2, exist_ok=True)\n",
    "\n",
    "# 2) Specific saving folder for aggregate stats\n",
    "np.save(os.path.join(save_root2, \"aggregate_stats_27_4_20.npy\"), aggregate_stats)\n",
    "\n",
    "# 3) General saving folder for time series\n",
    "save_root3 = \"Time series\"\n",
    "os.makedirs(save_root3, exist_ok=True)\n",
    "\n",
    "# 4) Specific saving folder for time series\n",
    "np.save(os.path.join(save_root3, \"time_series_stats_27_4_20.npy\"), time_series)"
   ]
  }
 ],
 "metadata": {
  "kernelspec": {
   "display_name": "base",
   "language": "python",
   "name": "python3"
  },
  "language_info": {
   "codemirror_mode": {
    "name": "ipython",
    "version": 3
   },
   "file_extension": ".py",
   "mimetype": "text/x-python",
   "name": "python",
   "nbconvert_exporter": "python",
   "pygments_lexer": "ipython3",
   "version": "3.12.9"
  }
 },
 "nbformat": 4,
 "nbformat_minor": 5
}
