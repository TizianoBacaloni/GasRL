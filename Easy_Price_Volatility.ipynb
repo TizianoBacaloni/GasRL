{
 "cells": [
  {
   "cell_type": "code",
   "execution_count": null,
   "id": "9d7cd4c5",
   "metadata": {},
   "outputs": [],
   "source": [
    "import pandas as pd\n",
    "import numpy as np\n",
    "import matplotlib.pyplot as plt"
   ]
  },
  {
   "cell_type": "code",
   "execution_count": null,
   "id": "d7d06b2c",
   "metadata": {},
   "outputs": [],
   "source": [
    "df= np.load(\"/home/tizianobacaloni/tiziano_data/RL4GasStorage/gas_storage_model/Time series/time_series_stats_27_4_20_4.npy\",allow_pickle=True)\n",
    "df=df.item()"
   ]
  },
  {
   "cell_type": "code",
   "execution_count": null,
   "id": "261b58ad",
   "metadata": {},
   "outputs": [],
   "source": [
    "prices=df[\"sac_model_1500000_pen1000.0_pen_thresh0.0_rep4.zip\"][\"price\"]\n",
    "\n",
    "\n",
    "# Computing 1st difference of log prices \n",
    "log_prices = np.log(prices)\n",
    "prices = np.diff(log_prices, axis=1)"
   ]
  },
  {
   "cell_type": "code",
   "execution_count": null,
   "id": "13e3dc74",
   "metadata": {},
   "outputs": [],
   "source": [
    "prices = np.array(prices**2)\n",
    "\n",
    "sum_prices = np.sum(prices, axis=1) # For each of n_reps, the sum over max_test_steps (row sum): the result are n_reps single values\n",
    "\n",
    "var_prices = (sum_prices) / prices.shape[1]   # Sample variance\n",
    "std_prices = np.sqrt(var_prices)\n",
    "\n",
    "mean_prices = np.mean(std_prices)             # Final volatility measure\n",
    "std_std_prices = np.std(std_prices)"
   ]
  },
  {
   "cell_type": "code",
   "execution_count": null,
   "id": "379b2ad6",
   "metadata": {},
   "outputs": [],
   "source": [
    "##### Equivalent way to compute volatility considering delta_price as defined in GasStorageEnv \n",
    "\n",
    "delta_prices=df[\"sac_model_1500000_pen1000.0_pen_thresh0.0_rep4.zip\"][\"Delta Price\"]\n",
    "delta_prices = np.array(delta_prices) \n",
    "sum_delta_prices = np.sum(delta_prices, axis=1) # For each of n_reps, the sum over max_test_steps (row sum): the result are n_reps single values\n",
    "                \n",
    "var_delta_prices = sum_delta_prices / delta_prices.shape[1]   # Sample variance\n",
    "std_delta_prices = np.sqrt(var_delta_prices)\n",
    "\n",
    "mean_std_delta_prices = np.mean(std_delta_prices)             # Final volatility measure\n",
    "std_std_delta_prices = np.std(std_delta_prices)\n"
   ]
  },
  {
   "cell_type": "code",
   "execution_count": null,
   "id": "cd95ecdf",
   "metadata": {},
   "outputs": [],
   "source": [
    "print(f'Mean price volatility: {mean_prices}')\n",
    "print(f'Mean delta price volatility: {mean_std_delta_prices} ')"
   ]
  },
  {
   "cell_type": "code",
   "execution_count": null,
   "id": "7291a40e",
   "metadata": {},
   "outputs": [],
   "source": [
    "##### They are basically the same \n",
    "\n",
    "plt.figure(figsize=(12, 6))\n",
    "plt.plot(delta_prices[0], label='delta_price (Serie)', color='tab:blue')\n",
    "plt.plot(prices[0], label='prices (Prima simulazione)', color='tab:orange')\n",
    "plt.xlabel('Time step')\n",
    "plt.ylabel('Value')\n",
    "plt.title('Serie delta_price e prices')\n",
    "plt.legend()\n",
    "plt.show()"
   ]
  }
 ],
 "metadata": {
  "language_info": {
   "name": "python"
  }
 },
 "nbformat": 4,
 "nbformat_minor": 5
}
