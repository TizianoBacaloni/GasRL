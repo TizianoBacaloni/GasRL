{
 "cells": [
  {
   "cell_type": "code",
   "execution_count": 1,
   "id": "9d7cd4c5",
   "metadata": {},
   "outputs": [],
   "source": [
    "import pandas as pd\n",
    "import numpy as np\n",
    "import matplotlib.pyplot as plt"
   ]
  },
  {
   "cell_type": "code",
   "execution_count": 3,
   "id": "d7d06b2c",
   "metadata": {},
   "outputs": [
    {
     "ename": "KeyboardInterrupt",
     "evalue": "",
     "output_type": "error",
     "traceback": [
      "\u001b[31m---------------------------------------------------------------------------\u001b[39m",
      "\u001b[31mKeyboardInterrupt\u001b[39m                         Traceback (most recent call last)",
      "\u001b[36mCell\u001b[39m\u001b[36m \u001b[39m\u001b[32mIn[3]\u001b[39m\u001b[32m, line 1\u001b[39m\n\u001b[32m----> \u001b[39m\u001b[32m1\u001b[39m df= \u001b[43mnp\u001b[49m\u001b[43m.\u001b[49m\u001b[43mload\u001b[49m\u001b[43m(\u001b[49m\u001b[33;43m\"\u001b[39;49m\u001b[33;43mTime series/time_series_stats_27_4_20_4.npy\u001b[39;49m\u001b[33;43m\"\u001b[39;49m\u001b[43m,\u001b[49m\u001b[43mallow_pickle\u001b[49m\u001b[43m=\u001b[49m\u001b[38;5;28;43;01mTrue\u001b[39;49;00m\u001b[43m)\u001b[49m\n\u001b[32m      2\u001b[39m df=df.item()\n",
      "\u001b[36mFile \u001b[39m\u001b[32m~/tiziano_data/miniconda3/lib/python3.12/site-packages/numpy/lib/_npyio_impl.py:488\u001b[39m, in \u001b[36mload\u001b[39m\u001b[34m(file, mmap_mode, allow_pickle, fix_imports, encoding, max_header_size)\u001b[39m\n\u001b[32m    485\u001b[39m         \u001b[38;5;28;01mreturn\u001b[39;00m \u001b[38;5;28mformat\u001b[39m.open_memmap(file, mode=mmap_mode,\n\u001b[32m    486\u001b[39m                                   max_header_size=max_header_size)\n\u001b[32m    487\u001b[39m     \u001b[38;5;28;01melse\u001b[39;00m:\n\u001b[32m--> \u001b[39m\u001b[32m488\u001b[39m         \u001b[38;5;28;01mreturn\u001b[39;00m \u001b[38;5;28;43mformat\u001b[39;49m\u001b[43m.\u001b[49m\u001b[43mread_array\u001b[49m\u001b[43m(\u001b[49m\u001b[43mfid\u001b[49m\u001b[43m,\u001b[49m\u001b[43m \u001b[49m\u001b[43mallow_pickle\u001b[49m\u001b[43m=\u001b[49m\u001b[43mallow_pickle\u001b[49m\u001b[43m,\u001b[49m\n\u001b[32m    489\u001b[39m \u001b[43m                                 \u001b[49m\u001b[43mpickle_kwargs\u001b[49m\u001b[43m=\u001b[49m\u001b[43mpickle_kwargs\u001b[49m\u001b[43m,\u001b[49m\n\u001b[32m    490\u001b[39m \u001b[43m                                 \u001b[49m\u001b[43mmax_header_size\u001b[49m\u001b[43m=\u001b[49m\u001b[43mmax_header_size\u001b[49m\u001b[43m)\u001b[49m\n\u001b[32m    491\u001b[39m \u001b[38;5;28;01melse\u001b[39;00m:\n\u001b[32m    492\u001b[39m     \u001b[38;5;66;03m# Try a pickle\u001b[39;00m\n\u001b[32m    493\u001b[39m     \u001b[38;5;28;01mif\u001b[39;00m \u001b[38;5;129;01mnot\u001b[39;00m allow_pickle:\n",
      "\u001b[36mFile \u001b[39m\u001b[32m~/tiziano_data/miniconda3/lib/python3.12/site-packages/numpy/lib/format.py:827\u001b[39m, in \u001b[36mread_array\u001b[39m\u001b[34m(fp, allow_pickle, pickle_kwargs, max_header_size)\u001b[39m\n\u001b[32m    825\u001b[39m     pickle_kwargs = {}\n\u001b[32m    826\u001b[39m \u001b[38;5;28;01mtry\u001b[39;00m:\n\u001b[32m--> \u001b[39m\u001b[32m827\u001b[39m     array = \u001b[43mpickle\u001b[49m\u001b[43m.\u001b[49m\u001b[43mload\u001b[49m\u001b[43m(\u001b[49m\u001b[43mfp\u001b[49m\u001b[43m,\u001b[49m\u001b[43m \u001b[49m\u001b[43m*\u001b[49m\u001b[43m*\u001b[49m\u001b[43mpickle_kwargs\u001b[49m\u001b[43m)\u001b[49m\n\u001b[32m    828\u001b[39m \u001b[38;5;28;01mexcept\u001b[39;00m \u001b[38;5;167;01mUnicodeError\u001b[39;00m \u001b[38;5;28;01mas\u001b[39;00m err:\n\u001b[32m    829\u001b[39m     \u001b[38;5;66;03m# Friendlier error message\u001b[39;00m\n\u001b[32m    830\u001b[39m     \u001b[38;5;28;01mraise\u001b[39;00m \u001b[38;5;167;01mUnicodeError\u001b[39;00m(\u001b[33m\"\u001b[39m\u001b[33mUnpickling a python object failed: \u001b[39m\u001b[38;5;132;01m%r\u001b[39;00m\u001b[38;5;130;01m\\n\u001b[39;00m\u001b[33m\"\u001b[39m\n\u001b[32m    831\u001b[39m                        \u001b[33m\"\u001b[39m\u001b[33mYou may need to pass the encoding= option \u001b[39m\u001b[33m\"\u001b[39m\n\u001b[32m    832\u001b[39m                        \u001b[33m\"\u001b[39m\u001b[33mto numpy.load\u001b[39m\u001b[33m\"\u001b[39m % (err,)) \u001b[38;5;28;01mfrom\u001b[39;00m \u001b[34;01merr\u001b[39;00m\n",
      "\u001b[36mFile \u001b[39m\u001b[32m~/tiziano_data/miniconda3/lib/python3.12/site-packages/torch/storage.py:533\u001b[39m, in \u001b[36m_load_from_bytes\u001b[39m\u001b[34m(b)\u001b[39m\n\u001b[32m    532\u001b[39m \u001b[38;5;28;01mdef\u001b[39;00m \u001b[34m_load_from_bytes\u001b[39m(b):\n\u001b[32m--> \u001b[39m\u001b[32m533\u001b[39m     \u001b[38;5;28;01mreturn\u001b[39;00m \u001b[43mtorch\u001b[49m\u001b[43m.\u001b[49m\u001b[43mload\u001b[49m\u001b[43m(\u001b[49m\u001b[43mio\u001b[49m\u001b[43m.\u001b[49m\u001b[43mBytesIO\u001b[49m\u001b[43m(\u001b[49m\u001b[43mb\u001b[49m\u001b[43m)\u001b[49m\u001b[43m,\u001b[49m\u001b[43m \u001b[49m\u001b[43mweights_only\u001b[49m\u001b[43m=\u001b[49m\u001b[38;5;28;43;01mFalse\u001b[39;49;00m\u001b[43m)\u001b[49m\n",
      "\u001b[36mFile \u001b[39m\u001b[32m~/tiziano_data/miniconda3/lib/python3.12/site-packages/torch/serialization.py:1386\u001b[39m, in \u001b[36mload\u001b[39m\u001b[34m(f, map_location, pickle_module, weights_only, mmap, **pickle_load_args)\u001b[39m\n\u001b[32m   1381\u001b[39m \u001b[38;5;66;03m# Add ability to force safe only or non-safe weight loads via environment variables\u001b[39;00m\n\u001b[32m   1382\u001b[39m force_weights_only_load = (\n\u001b[32m   1383\u001b[39m     os.getenv(\u001b[33m\"\u001b[39m\u001b[33mTORCH_FORCE_WEIGHTS_ONLY_LOAD\u001b[39m\u001b[33m\"\u001b[39m, \u001b[33m\"\u001b[39m\u001b[33m0\u001b[39m\u001b[33m\"\u001b[39m) \u001b[38;5;129;01min\u001b[39;00m true_values\n\u001b[32m   1384\u001b[39m )\n\u001b[32m   1385\u001b[39m force_no_weights_only_load = (\n\u001b[32m-> \u001b[39m\u001b[32m1386\u001b[39m     \u001b[43mos\u001b[49m\u001b[43m.\u001b[49m\u001b[43mgetenv\u001b[49m\u001b[43m(\u001b[49m\u001b[33;43m\"\u001b[39;49m\u001b[33;43mTORCH_FORCE_NO_WEIGHTS_ONLY_LOAD\u001b[39;49m\u001b[33;43m\"\u001b[39;49m\u001b[43m,\u001b[49m\u001b[43m \u001b[49m\u001b[33;43m\"\u001b[39;49m\u001b[33;43m0\u001b[39;49m\u001b[33;43m\"\u001b[39;49m\u001b[43m)\u001b[49m \u001b[38;5;129;01min\u001b[39;00m true_values\n\u001b[32m   1387\u001b[39m )\n\u001b[32m   1389\u001b[39m \u001b[38;5;28;01mif\u001b[39;00m force_weights_only_load \u001b[38;5;129;01mand\u001b[39;00m force_no_weights_only_load:\n\u001b[32m   1390\u001b[39m     \u001b[38;5;28;01mraise\u001b[39;00m \u001b[38;5;167;01mRuntimeError\u001b[39;00m(\n\u001b[32m   1391\u001b[39m         \u001b[33m\"\u001b[39m\u001b[33mOnly one of `TORCH_FORCE_WEIGHTS_ONLY_LOAD` or `TORCH_FORCE_NO_WEIGHTS_ONLY_LOAD` \u001b[39m\u001b[33m\"\u001b[39m\n\u001b[32m   1392\u001b[39m         \u001b[33m\"\u001b[39m\u001b[33mshould be set, but both were set.\u001b[39m\u001b[33m\"\u001b[39m\n\u001b[32m   1393\u001b[39m     )\n",
      "\u001b[36mFile \u001b[39m\u001b[32m<frozen os>:808\u001b[39m, in \u001b[36mgetenv\u001b[39m\u001b[34m(key, default)\u001b[39m\n",
      "\u001b[31mKeyboardInterrupt\u001b[39m: "
     ]
    }
   ],
   "source": [
    "df= np.load(\"Time series/time_series_stats_27_4_20_4.npy\",allow_pickle=True)\n",
    "df=df.item()"
   ]
  },
  {
   "cell_type": "code",
   "execution_count": null,
   "id": "261b58ad",
   "metadata": {},
   "outputs": [],
   "source": [
    "prices=df[\"sac_model_1500000_pen1000.0_pen_thresh0.0_rep4.zip\"][\"price\"]\n",
    "\n",
    "\n",
    "# Computing 1st difference of log prices \n",
    "log_prices = np.log(prices)\n",
    "prices = np.diff(log_prices, axis=1)"
   ]
  },
  {
   "cell_type": "code",
   "execution_count": null,
   "id": "13e3dc74",
   "metadata": {},
   "outputs": [],
   "source": [
    "prices = np.array(prices**2)\n",
    "\n",
    "sum_prices = np.sum(prices, axis=1) # For each of n_reps, the sum over max_test_steps (row sum): the result are n_reps single values\n",
    "\n",
    "var_prices = (sum_prices) / prices.shape[1]   # Sample variance\n",
    "std_prices = np.sqrt(var_prices)\n",
    "\n",
    "mean_prices = np.mean(std_prices)             # Final volatility measure\n",
    "std_std_prices = np.std(std_prices)"
   ]
  },
  {
   "cell_type": "code",
   "execution_count": null,
   "id": "379b2ad6",
   "metadata": {},
   "outputs": [],
   "source": [
    "##### Equivalent way to compute volatility considering delta_price as defined in GasStorageEnv \n",
    "\n",
    "delta_prices=df[\"sac_model_1500000_pen1000.0_pen_thresh0.0_rep4.zip\"][\"Delta Price\"]\n",
    "delta_prices = np.array(delta_prices) \n",
    "sum_delta_prices = np.sum(delta_prices, axis=1) # For each of n_reps, the sum over max_test_steps (row sum): the result are n_reps single values\n",
    "                \n",
    "var_delta_prices = sum_delta_prices / delta_prices.shape[1]   # Sample variance\n",
    "std_delta_prices = np.sqrt(var_delta_prices)\n",
    "\n",
    "mean_std_delta_prices = np.mean(std_delta_prices)             # Final volatility measure\n",
    "std_std_delta_prices = np.std(std_delta_prices)\n"
   ]
  },
  {
   "cell_type": "code",
   "execution_count": null,
   "id": "cd95ecdf",
   "metadata": {},
   "outputs": [],
   "source": [
    "print(f'Mean price volatility: {mean_prices}')\n",
    "print(f'Mean delta price volatility: {mean_std_delta_prices} ')"
   ]
  },
  {
   "cell_type": "code",
   "execution_count": null,
   "id": "7291a40e",
   "metadata": {},
   "outputs": [],
   "source": [
    "##### They are basically the same \n",
    "\n",
    "plt.figure(figsize=(12, 6))\n",
    "plt.plot(delta_prices[0], label='delta_price (Serie)', color='tab:blue')\n",
    "plt.plot(prices[0], label='prices (Prima simulazione)', color='tab:orange')\n",
    "plt.xlabel('Time step')\n",
    "plt.ylabel('Value')\n",
    "plt.title('Serie delta_price e prices')\n",
    "plt.legend()\n",
    "plt.show()"
   ]
  }
 ],
 "metadata": {
  "kernelspec": {
   "display_name": "base",
   "language": "python",
   "name": "python3"
  },
  "language_info": {
   "codemirror_mode": {
    "name": "ipython",
    "version": 3
   },
   "file_extension": ".py",
   "mimetype": "text/x-python",
   "name": "python",
   "nbconvert_exporter": "python",
   "pygments_lexer": "ipython3",
   "version": "3.12.9"
  }
 },
 "nbformat": 4,
 "nbformat_minor": 5
}
