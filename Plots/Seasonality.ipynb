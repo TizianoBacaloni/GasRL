{
 "cells": [
  {
   "cell_type": "code",
   "execution_count": null,
   "id": "36de9211",
   "metadata": {},
   "outputs": [],
   "source": [
    "import pandas as pd\n",
    "import numpy as np\n",
    "import statsmodels.api as sm\n",
    "import matplotlib.pyplot as plt\n",
    "from mpl_toolkits.axes_grid1.inset_locator import inset_axes\n",
    "import seaborn as sns\n",
    "import os\n",
    "\n",
    "#!pip install openpyxl\n",
    "#!pip install statsmodels\n"
   ]
  },
  {
   "cell_type": "markdown",
   "id": "8072b066",
   "metadata": {},
   "source": [
    "## **MEAN OF SIMULATED PRICES**\n",
    "####  Price = time series of max_test_step lenght in which each value is the mean, for the current step, across all the n_reps repetitions"
   ]
  },
  {
   "cell_type": "code",
   "execution_count": null,
   "id": "4f849c41",
   "metadata": {},
   "outputs": [
    {
     "name": "stdout",
     "output_type": "stream",
     "text": [
      "/home/tizianobacaloni/GasRL\n"
     ]
    }
   ],
   "source": [
    "# Setting the working directory\n",
    "os.chdir(\"..\")\n"
   ]
  },
  {
   "cell_type": "code",
   "execution_count": 7,
   "id": "9e362c54",
   "metadata": {},
   "outputs": [],
   "source": [
    "df = np.load(\"Aggregate test/aggregate_stats_27_4_20.npy\", allow_pickle=True)\n",
    "df = df.item()\n",
    "\n",
    "\n",
    "mean_price = df[\"sac_model_1500000_pen1000.0_pen_thresh0.0_rep4.zip\"][\"price\"][\"mean\"][0] # mean_price is an array of dimension (max_test_step,1) so just focus on 1st term\n",
    "mean_price=pd.Series(np.log(mean_price)).diff().dropna()\n",
    "mean_price = mean_price[13:]                                                              # drop 1st year due to instability\n",
    "price=mean_price"
   ]
  },
  {
   "cell_type": "code",
   "execution_count": 8,
   "id": "644c8c6c",
   "metadata": {},
   "outputs": [],
   "source": [
    "df = np.load(\"Aggregate test/aggregate_stats_27_4_20.npy\", allow_pickle=True)\n",
    "df = df.item()"
   ]
  },
  {
   "cell_type": "markdown",
   "id": "dea2dfc3",
   "metadata": {},
   "source": [
    "##### DATABASE FOR MEAN SIMULATED PRICES"
   ]
  },
  {
   "cell_type": "code",
   "execution_count": 24,
   "id": "506efe1a",
   "metadata": {},
   "outputs": [
    {
     "name": "stderr",
     "output_type": "stream",
     "text": [
      "/tmp/ipykernel_34431/3412674214.py:3: FutureWarning: 'M' is deprecated and will be removed in a future version, please use 'ME' instead.\n",
      "  date_range = pd.date_range(end=\"2019-12-31\", periods=len(price), freq='M')\n"
     ]
    }
   ],
   "source": [
    "\n",
    "## CREATING A DATABASE WITH A DATE FOR EACH MEASURMENT\n",
    "\n",
    "date_range = pd.date_range(end=\"2019-12-31\", periods=len(price), freq='M')\n",
    "df_price = pd.DataFrame({'price': price, 'date': date_range})\n",
    "\n",
    "df_price = df_price.rename(columns={'price': 'Value',\"date\":\"Date\"})\n",
    "df_price.set_index('Date', inplace=True)\n",
    "\n",
    "import statsmodels.api as sm\n",
    "import matplotlib.pyplot as plt\n",
    "\n",
    "\n",
    "ts_df = df_price  \n",
    "\n",
    "\n",
    "#  Create monthly dummies\n",
    "ts_df['Month'] = ts_df.index.month\n",
    "dummies = pd.get_dummies(ts_df['Month'], prefix='Month', drop_first=False)\n",
    "ts_df = pd.concat([ts_df, dummies], axis=1)\n",
    "\n",
    "\n",
    "#  Run regression\n",
    "X = ts_df.filter(like='Month_')\n",
    "y = ts_df['Value']\n",
    "model = sm.OLS(y, X).fit()\n",
    "\n",
    "# Plot the monthly profile\n",
    "monthly_coeffs = model.params.reindex([f'Month_{i}' for i in range(1, 13)])\n",
    "monthly_coeffs -= np.mean(monthly_coeffs)\n",
    "std_mean_coeff = np.std(monthly_coeffs)\n",
    "\n",
    "mean_coeffs1 = monthly_coeffs\n",
    "months = ['Jan', 'Feb', 'Mar', 'Apr', 'May', 'Jun', 'Jul', 'Aug', 'Sep', 'Oct', 'Nov', 'Dec']\n",
    "\n"
   ]
  },
  {
   "cell_type": "markdown",
   "id": "b8f0f74f",
   "metadata": {},
   "source": [
    "## **SIMULATED PRICES (Deterministic seasonal model)**\n",
    "####  Sesonality coefficents for each month = mean of the month's coefficients computed for each of the n_reps repetitions\n"
   ]
  },
  {
   "cell_type": "code",
   "execution_count": 9,
   "id": "dd206a33",
   "metadata": {},
   "outputs": [],
   "source": [
    "df= np.load(\"Time series/time_series_stats_27_4_20.npy\",allow_pickle=True)\n",
    "df=df.item()\n",
    "\n",
    "prices=df[\"sac_model_1500000_pen1000.0_pen_thresh0.0_rep4.zip\"][\"price\"]"
   ]
  },
  {
   "cell_type": "code",
   "execution_count": 26,
   "id": "ce7cd832",
   "metadata": {},
   "outputs": [
    {
     "name": "stderr",
     "output_type": "stream",
     "text": [
      "/tmp/ipykernel_34431/170337588.py:8: FutureWarning: 'M' is deprecated and will be removed in a future version, please use 'ME' instead.\n",
      "  date_range = pd.date_range(end=\"2000-12-31\", periods=len(price), freq='M')\n",
      "/tmp/ipykernel_34431/170337588.py:8: FutureWarning: 'M' is deprecated and will be removed in a future version, please use 'ME' instead.\n",
      "  date_range = pd.date_range(end=\"2000-12-31\", periods=len(price), freq='M')\n",
      "/tmp/ipykernel_34431/170337588.py:8: FutureWarning: 'M' is deprecated and will be removed in a future version, please use 'ME' instead.\n",
      "  date_range = pd.date_range(end=\"2000-12-31\", periods=len(price), freq='M')\n",
      "/tmp/ipykernel_34431/170337588.py:8: FutureWarning: 'M' is deprecated and will be removed in a future version, please use 'ME' instead.\n",
      "  date_range = pd.date_range(end=\"2000-12-31\", periods=len(price), freq='M')\n",
      "/tmp/ipykernel_34431/170337588.py:8: FutureWarning: 'M' is deprecated and will be removed in a future version, please use 'ME' instead.\n",
      "  date_range = pd.date_range(end=\"2000-12-31\", periods=len(price), freq='M')\n",
      "/tmp/ipykernel_34431/170337588.py:8: FutureWarning: 'M' is deprecated and will be removed in a future version, please use 'ME' instead.\n",
      "  date_range = pd.date_range(end=\"2000-12-31\", periods=len(price), freq='M')\n",
      "/tmp/ipykernel_34431/170337588.py:8: FutureWarning: 'M' is deprecated and will be removed in a future version, please use 'ME' instead.\n",
      "  date_range = pd.date_range(end=\"2000-12-31\", periods=len(price), freq='M')\n",
      "/tmp/ipykernel_34431/170337588.py:8: FutureWarning: 'M' is deprecated and will be removed in a future version, please use 'ME' instead.\n",
      "  date_range = pd.date_range(end=\"2000-12-31\", periods=len(price), freq='M')\n",
      "/tmp/ipykernel_34431/170337588.py:8: FutureWarning: 'M' is deprecated and will be removed in a future version, please use 'ME' instead.\n",
      "  date_range = pd.date_range(end=\"2000-12-31\", periods=len(price), freq='M')\n",
      "/tmp/ipykernel_34431/170337588.py:8: FutureWarning: 'M' is deprecated and will be removed in a future version, please use 'ME' instead.\n",
      "  date_range = pd.date_range(end=\"2000-12-31\", periods=len(price), freq='M')\n",
      "/tmp/ipykernel_34431/170337588.py:8: FutureWarning: 'M' is deprecated and will be removed in a future version, please use 'ME' instead.\n",
      "  date_range = pd.date_range(end=\"2000-12-31\", periods=len(price), freq='M')\n",
      "/tmp/ipykernel_34431/170337588.py:8: FutureWarning: 'M' is deprecated and will be removed in a future version, please use 'ME' instead.\n",
      "  date_range = pd.date_range(end=\"2000-12-31\", periods=len(price), freq='M')\n",
      "/tmp/ipykernel_34431/170337588.py:8: FutureWarning: 'M' is deprecated and will be removed in a future version, please use 'ME' instead.\n",
      "  date_range = pd.date_range(end=\"2000-12-31\", periods=len(price), freq='M')\n",
      "/tmp/ipykernel_34431/170337588.py:8: FutureWarning: 'M' is deprecated and will be removed in a future version, please use 'ME' instead.\n",
      "  date_range = pd.date_range(end=\"2000-12-31\", periods=len(price), freq='M')\n",
      "/tmp/ipykernel_34431/170337588.py:8: FutureWarning: 'M' is deprecated and will be removed in a future version, please use 'ME' instead.\n",
      "  date_range = pd.date_range(end=\"2000-12-31\", periods=len(price), freq='M')\n",
      "/tmp/ipykernel_34431/170337588.py:8: FutureWarning: 'M' is deprecated and will be removed in a future version, please use 'ME' instead.\n",
      "  date_range = pd.date_range(end=\"2000-12-31\", periods=len(price), freq='M')\n",
      "/tmp/ipykernel_34431/170337588.py:8: FutureWarning: 'M' is deprecated and will be removed in a future version, please use 'ME' instead.\n",
      "  date_range = pd.date_range(end=\"2000-12-31\", periods=len(price), freq='M')\n",
      "/tmp/ipykernel_34431/170337588.py:8: FutureWarning: 'M' is deprecated and will be removed in a future version, please use 'ME' instead.\n",
      "  date_range = pd.date_range(end=\"2000-12-31\", periods=len(price), freq='M')\n",
      "/tmp/ipykernel_34431/170337588.py:8: FutureWarning: 'M' is deprecated and will be removed in a future version, please use 'ME' instead.\n",
      "  date_range = pd.date_range(end=\"2000-12-31\", periods=len(price), freq='M')\n",
      "/tmp/ipykernel_34431/170337588.py:8: FutureWarning: 'M' is deprecated and will be removed in a future version, please use 'ME' instead.\n",
      "  date_range = pd.date_range(end=\"2000-12-31\", periods=len(price), freq='M')\n",
      "/tmp/ipykernel_34431/170337588.py:8: FutureWarning: 'M' is deprecated and will be removed in a future version, please use 'ME' instead.\n",
      "  date_range = pd.date_range(end=\"2000-12-31\", periods=len(price), freq='M')\n",
      "/tmp/ipykernel_34431/170337588.py:8: FutureWarning: 'M' is deprecated and will be removed in a future version, please use 'ME' instead.\n",
      "  date_range = pd.date_range(end=\"2000-12-31\", periods=len(price), freq='M')\n",
      "/tmp/ipykernel_34431/170337588.py:8: FutureWarning: 'M' is deprecated and will be removed in a future version, please use 'ME' instead.\n",
      "  date_range = pd.date_range(end=\"2000-12-31\", periods=len(price), freq='M')\n",
      "/tmp/ipykernel_34431/170337588.py:8: FutureWarning: 'M' is deprecated and will be removed in a future version, please use 'ME' instead.\n",
      "  date_range = pd.date_range(end=\"2000-12-31\", periods=len(price), freq='M')\n",
      "/tmp/ipykernel_34431/170337588.py:8: FutureWarning: 'M' is deprecated and will be removed in a future version, please use 'ME' instead.\n",
      "  date_range = pd.date_range(end=\"2000-12-31\", periods=len(price), freq='M')\n",
      "/tmp/ipykernel_34431/170337588.py:8: FutureWarning: 'M' is deprecated and will be removed in a future version, please use 'ME' instead.\n",
      "  date_range = pd.date_range(end=\"2000-12-31\", periods=len(price), freq='M')\n",
      "/tmp/ipykernel_34431/170337588.py:8: FutureWarning: 'M' is deprecated and will be removed in a future version, please use 'ME' instead.\n",
      "  date_range = pd.date_range(end=\"2000-12-31\", periods=len(price), freq='M')\n",
      "/tmp/ipykernel_34431/170337588.py:8: FutureWarning: 'M' is deprecated and will be removed in a future version, please use 'ME' instead.\n",
      "  date_range = pd.date_range(end=\"2000-12-31\", periods=len(price), freq='M')\n",
      "/tmp/ipykernel_34431/170337588.py:8: FutureWarning: 'M' is deprecated and will be removed in a future version, please use 'ME' instead.\n",
      "  date_range = pd.date_range(end=\"2000-12-31\", periods=len(price), freq='M')\n",
      "/tmp/ipykernel_34431/170337588.py:8: FutureWarning: 'M' is deprecated and will be removed in a future version, please use 'ME' instead.\n",
      "  date_range = pd.date_range(end=\"2000-12-31\", periods=len(price), freq='M')\n",
      "/tmp/ipykernel_34431/170337588.py:8: FutureWarning: 'M' is deprecated and will be removed in a future version, please use 'ME' instead.\n",
      "  date_range = pd.date_range(end=\"2000-12-31\", periods=len(price), freq='M')\n",
      "/tmp/ipykernel_34431/170337588.py:8: FutureWarning: 'M' is deprecated and will be removed in a future version, please use 'ME' instead.\n",
      "  date_range = pd.date_range(end=\"2000-12-31\", periods=len(price), freq='M')\n",
      "/tmp/ipykernel_34431/170337588.py:8: FutureWarning: 'M' is deprecated and will be removed in a future version, please use 'ME' instead.\n",
      "  date_range = pd.date_range(end=\"2000-12-31\", periods=len(price), freq='M')\n",
      "/tmp/ipykernel_34431/170337588.py:8: FutureWarning: 'M' is deprecated and will be removed in a future version, please use 'ME' instead.\n",
      "  date_range = pd.date_range(end=\"2000-12-31\", periods=len(price), freq='M')\n",
      "/tmp/ipykernel_34431/170337588.py:8: FutureWarning: 'M' is deprecated and will be removed in a future version, please use 'ME' instead.\n",
      "  date_range = pd.date_range(end=\"2000-12-31\", periods=len(price), freq='M')\n",
      "/tmp/ipykernel_34431/170337588.py:8: FutureWarning: 'M' is deprecated and will be removed in a future version, please use 'ME' instead.\n",
      "  date_range = pd.date_range(end=\"2000-12-31\", periods=len(price), freq='M')\n",
      "/tmp/ipykernel_34431/170337588.py:8: FutureWarning: 'M' is deprecated and will be removed in a future version, please use 'ME' instead.\n",
      "  date_range = pd.date_range(end=\"2000-12-31\", periods=len(price), freq='M')\n",
      "/tmp/ipykernel_34431/170337588.py:8: FutureWarning: 'M' is deprecated and will be removed in a future version, please use 'ME' instead.\n",
      "  date_range = pd.date_range(end=\"2000-12-31\", periods=len(price), freq='M')\n",
      "/tmp/ipykernel_34431/170337588.py:8: FutureWarning: 'M' is deprecated and will be removed in a future version, please use 'ME' instead.\n",
      "  date_range = pd.date_range(end=\"2000-12-31\", periods=len(price), freq='M')\n",
      "/tmp/ipykernel_34431/170337588.py:8: FutureWarning: 'M' is deprecated and will be removed in a future version, please use 'ME' instead.\n",
      "  date_range = pd.date_range(end=\"2000-12-31\", periods=len(price), freq='M')\n",
      "/tmp/ipykernel_34431/170337588.py:8: FutureWarning: 'M' is deprecated and will be removed in a future version, please use 'ME' instead.\n",
      "  date_range = pd.date_range(end=\"2000-12-31\", periods=len(price), freq='M')\n",
      "/tmp/ipykernel_34431/170337588.py:8: FutureWarning: 'M' is deprecated and will be removed in a future version, please use 'ME' instead.\n",
      "  date_range = pd.date_range(end=\"2000-12-31\", periods=len(price), freq='M')\n",
      "/tmp/ipykernel_34431/170337588.py:8: FutureWarning: 'M' is deprecated and will be removed in a future version, please use 'ME' instead.\n",
      "  date_range = pd.date_range(end=\"2000-12-31\", periods=len(price), freq='M')\n",
      "/tmp/ipykernel_34431/170337588.py:8: FutureWarning: 'M' is deprecated and will be removed in a future version, please use 'ME' instead.\n",
      "  date_range = pd.date_range(end=\"2000-12-31\", periods=len(price), freq='M')\n",
      "/tmp/ipykernel_34431/170337588.py:8: FutureWarning: 'M' is deprecated and will be removed in a future version, please use 'ME' instead.\n",
      "  date_range = pd.date_range(end=\"2000-12-31\", periods=len(price), freq='M')\n",
      "/tmp/ipykernel_34431/170337588.py:8: FutureWarning: 'M' is deprecated and will be removed in a future version, please use 'ME' instead.\n",
      "  date_range = pd.date_range(end=\"2000-12-31\", periods=len(price), freq='M')\n",
      "/tmp/ipykernel_34431/170337588.py:8: FutureWarning: 'M' is deprecated and will be removed in a future version, please use 'ME' instead.\n",
      "  date_range = pd.date_range(end=\"2000-12-31\", periods=len(price), freq='M')\n",
      "/tmp/ipykernel_34431/170337588.py:8: FutureWarning: 'M' is deprecated and will be removed in a future version, please use 'ME' instead.\n",
      "  date_range = pd.date_range(end=\"2000-12-31\", periods=len(price), freq='M')\n",
      "/tmp/ipykernel_34431/170337588.py:8: FutureWarning: 'M' is deprecated and will be removed in a future version, please use 'ME' instead.\n",
      "  date_range = pd.date_range(end=\"2000-12-31\", periods=len(price), freq='M')\n",
      "/tmp/ipykernel_34431/170337588.py:8: FutureWarning: 'M' is deprecated and will be removed in a future version, please use 'ME' instead.\n",
      "  date_range = pd.date_range(end=\"2000-12-31\", periods=len(price), freq='M')\n"
     ]
    }
   ],
   "source": [
    "data={}\n",
    "for k in range(len(prices)):\n",
    "    data[k]=[]                                  #Initialize an empty list in the `data` dict for key `k` to store results\n",
    "    price=prices[k]                             #Retrieve the price series corresponding to key `k`\n",
    "    price=price[13:]                            # Discard the first 13 observations (1st year is unstable)      \n",
    "    price = np.log(price)                       \n",
    "    price=pd.Series(prices[k]).diff().dropna()  # Computing 1st difference of the log prices\n",
    "    date_range = pd.date_range(end=\"2000-12-31\", periods=len(price), freq='M')\n",
    "    df_price = pd.DataFrame({'price': price, 'date': date_range})\n",
    "\n",
    "    df_price = df_price.rename(columns={'price': 'Log_Price',\"date\":\"Date\"})\n",
    "    df_price.set_index('Date', inplace=True)\n",
    "    ts_df1 = df_price \n",
    "    sim_data = df_price\n",
    "\n",
    "\n",
    "    # Step 2: Create monthly dummies\n",
    "    ts_df1['Month'] = ts_df1.index.month\n",
    "    dummies = pd.get_dummies(ts_df1['Month'], prefix='Month', drop_first=False)\n",
    "    ts_df1 = pd.concat([ts_df1, dummies], axis=1)\n",
    "\n",
    "\n",
    "    # Step 4: Prepare data and run regression\n",
    "    X = ts_df1.filter(like='Month_')\n",
    "    y = ts_df1['Log_Price']\n",
    "    model = sm.OLS(y, X).fit()\n",
    "    #print(model.summary())\n",
    "\n",
    "    # Step 5: Plot the monthly profile\n",
    "    monthly_coeffs = model.params.reindex([f'Month_{i}' for i in range(1, 13)])\n",
    "    monthly_coeffs -= np.mean(monthly_coeffs)\n",
    "    data[k].append(monthly_coeffs)\n",
    "\n",
    "\n",
    "    # Convert the list of Series in each dict entry to a DataFrame\n",
    "df_data = pd.DataFrame([v[0].values for v in data.values()], columns=data[0][0].index)\n",
    "df_data\n",
    "\n",
    "\n",
    "# Mean for each month  (column)\n",
    "mean_per_month = df_data.mean(axis=0)\n",
    "std_per_month = df_data.std(axis=0)\n",
    "\n",
    "\n",
    "months = ['Jan', 'Feb', 'Mar', 'Apr', 'May', 'Jun', 'Jul', 'Aug', 'Sep', 'Oct', 'Nov', 'Dec']\n",
    "\n",
    "\n",
    "\n"
   ]
  },
  {
   "cell_type": "markdown",
   "id": "4bb15fb7",
   "metadata": {},
   "source": [
    "## **REAL DATA**"
   ]
  },
  {
   "cell_type": "code",
   "execution_count": 10,
   "id": "e19c00b2",
   "metadata": {},
   "outputs": [],
   "source": [
    "\n",
    "\n",
    "#  Read metadata (first 6 rows)\n",
    "metadata_df = pd.read_excel('Plots/ttf_data.xlsx', nrows=6, header=None)\n",
    "metadata = dict(zip(metadata_df[0], metadata_df[1]))\n",
    "\n",
    "#  Read time series data (skip first 6 rows)\n",
    "ts_df = pd.read_excel('Plots/ttf_data.xlsx', skiprows=6, header=None)\n",
    "ts_df.columns = ['Date', 'Value']  # Rename columns\n",
    "ts_df['Date'] = pd.to_datetime(ts_df['Date'], format='%m/%d/%Y')  # Convert to datetime\n",
    "ts_df.set_index('Date', inplace=True)  # Set Date as index\n",
    "\n"
   ]
  },
  {
   "cell_type": "code",
   "execution_count": 28,
   "id": "3f928899",
   "metadata": {},
   "outputs": [],
   "source": [
    "#  Calculate log of prices\n",
    "ts_df['Log_Price'] = np.log(ts_df['Value'])\n",
    "real_data = ts_df\n",
    "\n",
    "#  Create monthly dummies\n",
    "ts_df['Month'] = ts_df.index.month\n",
    "dummies = pd.get_dummies(ts_df['Month'], prefix='Month', drop_first=False)\n",
    "ts_df = pd.concat([ts_df, dummies], axis=1)\n",
    "\n",
    "\n",
    "#  Prepare data and run regression\n",
    "X = ts_df.filter(like='Month_')\n",
    "y = ts_df['Log_Price']\n",
    "model = sm.OLS(y, X).fit()\n",
    "#print(model.summary())\n",
    "\n",
    "#  Plot the monthly profile\n",
    "monthly_coeffs = model.params.reindex([f'Month_{i}' for i in range(1, 13)])\n",
    "monthly_coeffs -= np.mean(monthly_coeffs)\n",
    "months = ['Jan', 'Feb', 'Mar', 'Apr', 'May', 'Jun', 'Jul', 'Aug', 'Sep', 'Oct', 'Nov', 'Dec']\n",
    "\n"
   ]
  },
  {
   "cell_type": "markdown",
   "id": "a0e1631d",
   "metadata": {},
   "source": [
    "## **DISTRIBUTION COMPARISON**"
   ]
  },
  {
   "cell_type": "code",
   "execution_count": 29,
   "id": "28760e85",
   "metadata": {},
   "outputs": [],
   "source": [
    "## For simulated data, 1st difference of log price still has to be computed\n",
    "sim_data = np.log(pd.DataFrame(prices))\n",
    "sim_data = sim_data.diff(axis=1)\n",
    "sim_data = np.array(sim_data).flatten()\n",
    "sim_data = pd.Series(sim_data)\n",
    "\n",
    "real_data=ts_df[\"Log_Price\"].diff()"
   ]
  },
  {
   "cell_type": "code",
   "execution_count": 30,
   "id": "90a9bbc4",
   "metadata": {},
   "outputs": [
    {
     "name": "stderr",
     "output_type": "stream",
     "text": [
      "/tmp/ipykernel_34431/3049708986.py:36: UserWarning: This figure includes Axes that are not compatible with tight_layout, so results might be incorrect.\n",
      "  plt.tight_layout()\n"
     ]
    },
    {
     "data": {
      "image/png": "[encoded data removed]",
      "text/plain": [
       "<Figure size 500x400 with 2 Axes>"
      ]
     },
     "metadata": {},
     "output_type": "display_data"
    }
   ],
   "source": [
    "\n",
    "plt.figure(figsize=(5, 4))\n",
    "ax = plt.gca()\n",
    "\n",
    "# Bar plot per mean_per_month con barre di errore std\n",
    "ax.bar(months, mean_per_month, yerr=std_per_month, width=0.35,\n",
    "       label='Simulated price', color='#1f77b4', capsize=2)\n",
    "ax.bar([i + 0.25 for i in range(len(months))], monthly_coeffs,\n",
    "       width=0.35, label='Real  price', color='#d62728')\n",
    "ax.bar([i + 0.50 for i in range(len(months))], mean_coeffs1,\n",
    "       width=0.35, label='Mean simulated price', color='#2ca02c', capsize=2)\n",
    "\n",
    "ax.set_ylabel('Seasonality')\n",
    "ax.set_xticks([i + 0.175 for i in range(len(months))])\n",
    "ax.set_xticklabels(months, rotation=45)\n",
    "ax.legend()\n",
    "ax.grid(axis='y', linestyle='--', alpha=0.7)\n",
    "\n",
    "# Inset axes \n",
    "ax_inset = inset_axes(ax, width=\"25%\", height=\"25%\", loc='lower right', borderpad=2.2)\n",
    "\n",
    "sns.kdeplot(real_data.dropna(), label='Real', color='#d62728',\n",
    "            fill=True, alpha=0.4, ax=ax_inset)\n",
    "sns.kdeplot(sim_data.dropna(), label='Simulated', color='#1f77b4',\n",
    "            fill=False, alpha=1, ax=ax_inset)\n",
    "sns.kdeplot(mean_price.dropna(), label=\"Mean simulated\", color=\"#2ca02c\",\n",
    "            fill=False, alpha=1, ax=ax_inset)\n",
    "\n",
    "ax_inset.set_ylabel('Density')\n",
    "ax_inset.set_xlabel(\" \")\n",
    "ax_inset.set_xlim(-2,2)\n",
    "ax_inset.set_xticks([-2,-1,0,1,2])\n",
    "ax_inset.set_yticks([0,1,2,3])\n",
    "\n",
    "\n",
    "\n",
    "plt.tight_layout()\n",
    "plt.savefig(\"season_with_inset.png\", dpi=500)\n",
    "plt.show()"
   ]
  }
 ],
 "metadata": {
  "kernelspec": {
   "display_name": "base",
   "language": "python",
   "name": "python3"
  },
  "language_info": {
   "codemirror_mode": {
    "name": "ipython",
    "version": 3
   },
   "file_extension": ".py",
   "mimetype": "text/x-python",
   "name": "python",
   "nbconvert_exporter": "python",
   "pygments_lexer": "ipython3",
   "version": "3.12.9"
  }
 },
 "nbformat": 4,
 "nbformat_minor": 5
}
